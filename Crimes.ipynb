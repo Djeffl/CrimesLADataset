{
 "cells": [
  {
   "cell_type": "code",
   "execution_count": 67,
   "metadata": {
    "collapsed": false
   },
   "outputs": [],
   "source": [
    "from pyspark.sql import SQLContext\n",
    "from pyspark.sql.types import *\n",
    "from datetime import datetime\n",
    "from pprint import pprint\n",
    "\n",
    "#Crimes_2012-2015\n",
    "#https://catalog.data.gov/dataset/crimes-2012-2015\n",
    "\n",
    "# 935259 Rows\n",
    "# 2012 - 2015\n",
    "#Header = Date.Rptd, DR.NO,DATE.OCC,TIME.OCC,AREA,AREA.NAME,RD,Crm.Cd,CrmCd.Desc,Status,Status.Desc,\n",
    "#            LOCATION,Cross.Street,Location.1\n",
    "#AREA.NAME = districten\n",
    "\n",
    "\n",
    "years =[]\n",
    "\n",
    "#import dataset (pas locatie aan)\n",
    "#filter header eruit\n",
    "crime_data = (sc.textFile('../data/crimesLA/Crimes_2012-2015.csv').filter(lambda line: 'DATE.OCC' not in line))\n",
    "\n",
    "year12 = crime_data.filter(lambda line: '/2012'  in line)\n",
    "year13 = crime_data.filter(lambda line: '/2013'  in line)\n",
    "year14 = crime_data.filter(lambda line: '/2014'  in line)\n",
    "year15 = crime_data.filter(lambda line: '/2015'  in line)\n",
    "\n",
    "years.append(year12)\n",
    "years.append(year13)\n",
    "years.append(year14)\n",
    "years.append(year15)\n",
    "\n"
   ]
  },
  {
   "cell_type": "code",
   "execution_count": 81,
   "metadata": {
    "collapsed": false
   },
   "outputs": [
    {
     "name": "stdout",
     "output_type": "stream",
     "text": [
      "238117\n",
      "239731\n",
      "240449\n",
      "228443\n"
     ]
    }
   ],
   "source": [
    "%matplotlib inline\n",
    "import matplotlib.pyplot as plt\n",
    "\n",
    "# x_axis = [ for i in range(12, 16, 1)]\n",
    "\n",
    "x_axis = [2012, 2013, 2014, 2015]\n",
    "y_axis = []\n",
    "\n",
    "for i in range(0, 4):\n",
    "    y_axis.append(years[i].count())\n",
    "    print years[i].count()\n",
    "\n",
    "\n"
   ]
  },
  {
   "cell_type": "code",
   "execution_count": 80,
   "metadata": {
    "collapsed": false,
    "scrolled": false
   },
   "outputs": [
    {
     "data": {
      "image/png": "[encoded data removed]",
      "text/plain": [
       "<matplotlib.figure.Figure at 0x98e90f0>"
      ]
     },
     "metadata": {},
     "output_type": "display_data"
    }
   ],
   "source": [
    "fig = plt.figure(figsize=(10, 7))\n",
    "fig.suptitle('Crimes per year', fontsize=14)\n",
    "ax = fig.add_subplot(122)\n",
    "ax.set_xlabel('years')\n",
    "ax.set_ylabel('crimes')\n",
    "ax.bar(x_axis, y_axis, fc='darksalmon', align='center')\n",
    "plt.show()"
   ]
  },
  {
   "cell_type": "code",
   "execution_count": null,
   "metadata": {
    "collapsed": false
   },
   "outputs": [],
   "source": []
  },
  {
   "cell_type": "code",
   "execution_count": 82,
   "metadata": {
    "collapsed": false
   },
   "outputs": [],
   "source": [
    "# from pyspark.sql import SQLContext\n",
    "# from pyspark.sql.types import *\n",
    "# from datetime import datetime\n",
    "\n",
    "# #Crimes_2012-2015\n",
    "# #https://catalog.data.gov/dataset/crimes-2012-2015\n",
    "\n",
    "# # 935259 Rows\n",
    "# # 2012 - 2015\n",
    "# #Header = Date.Rptd, DR.NO,DATE.OCC,TIME.OCC,AREA,AREA.NAME,RD,Crm.Cd,CrmCd.Desc,Status,Status.Desc,\n",
    "# #            LOCATION,Cross.Street,Location.1\n",
    "# #AREA.NAME = districten\n",
    "\n",
    "# YEARS = [2012, 2013, 2014, 2015]\n",
    "# crime_data = []\n",
    "\n",
    "# #import dataset (pas locatie aan)\n",
    "# #filter header eruit\n",
    "# # crime_data = (sc.textFile('../data/crimesLA/Crimes_2012-2015.csv').filter(lambda l: 'DATE.OCC' not in l))\n",
    "\n",
    "# # convert to a dataframe\n",
    "# def convert_to_df(year):\n",
    "# #     if year == '2015-01':\n",
    "# #         separator = '\\t'\n",
    "# #     else:\n",
    "# #         separator = ';'\n",
    "#     seperator = \";\"\n",
    "#     crime_data = sc.textFile('../Crimes_2012-2015.csv')\n",
    "#     year_rdd = (crime_data\n",
    "#                     .filter(lambda l: 'DATE.OCC' not in l)\n",
    "#                     .filter(lambda l: '/' + year in l)\n",
    "#                     .map(lambda l: add_fields(l, separator))\n",
    "#                )\n",
    "    \n",
    "#     # apply the schema to the RDD.\n",
    "#     year_df = sqlContext.createDataFrame(year_rdd, schema)\n",
    "    \n",
    "#     return year_df\n",
    "\n",
    "# fields = []\n",
    "# fields.append(StructField('DateReported', DateType(), True))\n",
    "# fields.append(StructField('Docnr', IntegerType(), True))\n",
    "# fields.append(StructField('DateOccupied', DateType(), True))\n",
    "# fields.append(StructField('areaId', IntegerType(), True))\n",
    "# fields.append(StructField('areaName', StringType(), True))\n",
    "# fields.append(StructField('rd', IntegerType(), True))\n",
    "# fields.append(StructField('crimeId', IntegerType(), True))\n",
    "# fields.append(StructField('crimeName', StringType(), True))\n",
    "# fields.append(StructField('statusId', IntegerType(), True))\n",
    "# fields.append(StructField('statusName', StringType(), True))\n",
    "# fields.append(StructField('location', StringType(), True))\n",
    "# fields.append(StructField('crossStreet', StringType(), True))\n",
    "# fields.append(StructField('location_type', StringType(), True))\n",
    "# schema = StructType(fields)\n",
    "\n",
    "\n",
    "        \n",
    "\n",
    "# fields = []\n",
    "# fields.append(StructField('DateReported', DateType(), True))\n",
    "# fields.append(StructField('Docnr', IntegerType(), True))\n",
    "# fields.append(StructField('DateOccupied', DateType(), True))\n",
    "# fields.append(StructField('areaId', IntegerType(), True))\n",
    "# fields.append(StructField('areaName', StringType(), True))\n",
    "# fields.append(StructField('rd', IntegerType(), True))\n",
    "# fields.append(StructField('crimeId', IntegerType(), True))\n",
    "# fields.append(StructField('crimeName', StringType(), True))\n",
    "# fields.append(StructField('statusId', IntegerType(), True))\n",
    "# fields.append(StructField('statusName', StringType(), True))\n",
    "# fields.append(StructField('location', StringType(), True))\n",
    "# fields.append(StructField('crossStreet', StringType(), True))\n",
    "# fields.append(StructField('lat', FloatType(), True))\n",
    "# fields.append(StructField('long', FloatType(), True))\n",
    "# schema = StructType(fields)\n",
    "\n",
    "\n",
    "\n",
    "\n",
    "# def add_fields(line, separator):\n",
    "#     fields = []\n",
    "#     vals = line.split(separator)\n",
    "#     # DateReported\n",
    "#     date = datetime.strptime(vals[0], '%m/%d/%Y')\n",
    "#     fields.append(date)\n",
    "#     # Docnr\n",
    "#     fields.append(int(vals[2]))\n",
    "#     # DateOccupied\n",
    "#     date = datetime.strptime(vals[3], '%m/%d/%Y')\n",
    "#     fields.append(date)\n",
    "#     # areaId\n",
    "#     fields.append(int(vals[4]))\n",
    "#     # areaName\n",
    "#     fields.append(vals[3])\n",
    "#     # rd\n",
    "#     fields.append(int(vals[5]))\n",
    "#     # crimeId\n",
    "#     fields.append(int(vals[6]))\n",
    "#     # crimeName\n",
    "#     fields.append(vals[7])\n",
    "#     # statusId\n",
    "#     fields.append(int(vals[8]))\n",
    "#     # statusName\n",
    "#     fields.append(vals[9])\n",
    "#     # location\n",
    "#     fields.append(vals[10])\n",
    "#     # crossStreet\n",
    "#     fields.append(vals[11])\n",
    "#     # lat\n",
    "#     fields.append(vals[12][2:])\n",
    "#     # longit\n",
    "#     fields.append(vals[12][:-2])\n",
    "    \n",
    "    \n",
    "#     return fields\n",
    "# zz"
   ]
  },
  {
   "cell_type": "code",
   "execution_count": null,
   "metadata": {
    "collapsed": true
   },
   "outputs": [],
   "source": []
  }
 ],
 "metadata": {
  "anaconda-cloud": {},
  "kernelspec": {
   "display_name": "Python [Root]",
   "language": "python",
   "name": "Python [Root]"
  },
  "language_info": {
   "codemirror_mode": {
    "name": "ipython",
    "version": 2
   },
   "file_extension": ".py",
   "mimetype": "text/x-python",
   "name": "python",
   "nbconvert_exporter": "python",
   "pygments_lexer": "ipython2",
   "version": "2.7.12"
  }
 },
 "nbformat": 4,
 "nbformat_minor": 0
}
