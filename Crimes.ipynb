{
 "cells": [
  {
   "cell_type": "code",
   "execution_count": 1,
   "metadata": {
    "collapsed": false
   },
   "outputs": [
    {
     "ename": "IndentationError",
     "evalue": "unexpected indent (<ipython-input-1-b581184d310a>, line 77)",
     "output_type": "error",
     "traceback": [
      "\u001b[1;36m  File \u001b[1;32m\"<ipython-input-1-b581184d310a>\"\u001b[1;36m, line \u001b[1;32m77\u001b[0m\n\u001b[1;33m    fields.append(vals[3])\u001b[0m\n\u001b[1;37m    ^\u001b[0m\n\u001b[1;31mIndentationError\u001b[0m\u001b[1;31m:\u001b[0m unexpected indent\n"
     ]
    }
   ],
   "source": [
    "from pyspark.sql import SQLContext\n",
    "from pyspark.sql.types import *\n",
    "from datetime import datetime\n",
    "\n",
    "#Crimes_2012-2015\n",
    "#https://catalog.data.gov/dataset/crimes-2012-2015\n",
    "\n",
    "# 935259 Rows\n",
    "# 2012 - 2015\n",
    "#Header = Date.Rptd, DR.NO,DATE.OCC,TIME.OCC,AREA,AREA.NAME,RD,Crm.Cd,CrmCd.Desc,Status,Status.Desc,\n",
    "#            LOCATION,Cross.Street,Location.1\n",
    "#AREA.NAME = districten\n",
    "\n",
    "YEARS = [2012, 2013, 2014, 2015]\n",
    "crime_data = []\n",
    "\n",
    "#import dataset (pas locatie aan)\n",
    "#filter header eruit\n",
    "# crime_data = (sc.textFile('../data/crimesLA/Crimes_2012-2015.csv').filter(lambda l: 'DATE.OCC' not in l))\n",
    "\n",
    "# convert to a dataframe\n",
    "def convert_to_df(year):\n",
    "#     if year == '2015-01':\n",
    "#         separator = '\\t'\n",
    "#     else:\n",
    "#         separator = ';'\n",
    "    seperator = \";\"\n",
    "    crime_data = sc.textFile('../data/crimesLA/Crimes_2012-2015.csv')\n",
    "    year_rdd = (crime_data\n",
    "                    .filter(lambda l: 'DATE.OCC' not in l)\n",
    "                    .filter(lambda l: '/' + year in l)\n",
    "                    .map(lambda l: add_fields(l, separator))\n",
    "               )\n",
    "    \n",
    "    # apply the schema to the RDD.\n",
    "    year_df = sqlContext.createDataFrame(year_rdd, schema)\n",
    "    \n",
    "    return year_df\n",
    "\n",
    "fields = []\n",
    "fields.append(StructField('DateReported', DateType(), True))\n",
    "fields.append(StructField('Docnr', IntegerType(), True))\n",
    "fields.append(StructField('DateOccupied', DateType(), True))\n",
    "fields.append(StructField('areaId', IntegerType(), True))\n",
    "fields.append(StructField('areaName', StringType(), True))\n",
    "fields.append(StructField('rd', IntegerType(), True))\n",
    "fields.append(StructField('crimeId', IntegerType(), True))\n",
    "fields.append(StructField('crimeName', StringType(), True))\n",
    "fields.append(StructField('statusId', IntegerType(), True))\n",
    "fields.append(StructField('statusName', StringType(), True))\n",
    "fields.append(StructField('location', StringType(), True))\n",
    "fields.append(StructField('crossStreet', StringType(), True))\n",
    "fields.append(StructField('location_type', StringType(), True))\n",
    "schema = StructType(fields)\n",
    "\n",
    "for i in range(12, 15, 1):\n",
    "    year = '20' + str(i)\n",
    "    convert_to_df(year).registerTempTable(YEAR[i - 12] + '_table')\n",
    "    sql = 'SELECT COUNT(*) AS CNT FROM ' + YEAR[i - 12] + '_table'\n",
    "    crime_data.append(sqlContext.sql(sql).collect())\n",
    "        \n",
    "\n",
    "def add_fields(line, separator):\n",
    "    fields = []\n",
    "    vals = line.split(separator)\n",
    "    # DateReported\n",
    "    date = datetime.strptime(vals[0], '%m/%d/%Y')\n",
    "    fields.append(date)\n",
    "    # Docnr\n",
    "    fields.append(int(vals[2]))\n",
    "    # DateOccupied\n",
    "    date = datetime.strptime(vals[3], '%m/%d/%Y')\n",
    "    fields.append(date)\n",
    "    # areaId\n",
    "    fields.append(int(vals[4]))\n",
    "    # areaName\n",
    "    fields.append(vals[3])\n",
    "    # rd\n",
    "    fields.append(int(vals[5]))\n",
    "    # crimeId\n",
    "    fields.append(int(vals[6]))\n",
    "    # crimeName\n",
    "    fields.append(vals[7])\n",
    "    # statusId\n",
    "     fields.append(int(vals[8]))\n",
    "    # statusName\n",
    "     fields.append(vals[9])\n",
    "    # location\n",
    "     fields.append(vals[10])\n",
    "    # crossStreet\n",
    "     fields.append(vals[11])\n",
    "    # location_type\n",
    "     fields.append(vals[12])\n",
    "    \n",
    "    return fields"
   ]
  },
  {
   "cell_type": "code",
   "execution_count": 1,
   "metadata": {
    "collapsed": false
   },
   "outputs": [
    {
     "data": {
      "image/png": "[encoded data removed]",
      "text/plain": [
       "<matplotlib.figure.Figure at 0x2e93e80>"
      ]
     },
     "metadata": {},
     "output_type": "display_data"
    }
   ],
   "source": [
    "%matplotlib inline\n",
    "import matplotlib.pyplot as plt\n",
    "\n",
    "x_axis = [i for i in range(12, 15, 1)]\n",
    "y_axis = []\n",
    "\n",
    "for i in range(12, 15):\n",
    "    try:\n",
    "        y_axis.append(crime_data[i-12][0]['CNT'])\n",
    "    except:\n",
    "        y_axis.append(0)\n",
    "\n",
    "fig = plt.figure(figsize=(7, 7))\n",
    "fig.suptitle('Crimes per year', fontsize=14)\n",
    "ax = fig.add_subplot(111)\n",
    "ax.set_xlabel('years')\n",
    "ax.set_ylabel('crimes')\n",
    "ax.bar(x_axis, y_axis, fc='darksalmon', align='center')\n",
    "plt.show()"
   ]
  },
  {
   "cell_type": "code",
   "execution_count": null,
   "metadata": {
    "collapsed": true
   },
   "outputs": [],
   "source": []
  }
 ],
 "metadata": {
  "anaconda-cloud": {},
  "kernelspec": {
   "display_name": "Python [Root]",
   "language": "python",
   "name": "Python [Root]"
  },
  "language_info": {
   "codemirror_mode": {
    "name": "ipython",
    "version": 2
   },
   "file_extension": ".py",
   "mimetype": "text/x-python",
   "name": "python",
   "nbconvert_exporter": "python",
   "pygments_lexer": "ipython2",
   "version": "2.7.12"
  }
 },
 "nbformat": 4,
 "nbformat_minor": 0
}
