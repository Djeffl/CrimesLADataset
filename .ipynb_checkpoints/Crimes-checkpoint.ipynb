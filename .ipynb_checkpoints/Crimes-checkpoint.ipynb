{
 "cells": [
  {
   "cell_type": "code",
   "execution_count": 9,
   "metadata": {
    "collapsed": false
   },
   "outputs": [],
   "source": [
    "from pyspark.sql import SQLContext\n",
    "from pyspark.sql.types import *\n",
    "from datetime import datetime\n",
    "from pprint import pprint\n",
    "\n",
    "#Crimes_2012-2015\n",
    "#https://catalog.data.gov/dataset/crimes-2012-2015\n",
    "\n",
    "# 935259 Rows\n",
    "# 2012 - 2015\n",
    "#Header = Date.Rptd, DR.NO,DATE.OCC,TIME.OCC,AREA,AREA.NAME,RD,Crm.Cd,CrmCd.Desc,Status,Status.Desc,\n",
    "#            LOCATION,Cross.Street,Location.1\n",
    "#AREA.NAME = districten\n",
    "\n",
    "years =[]\n",
    "\n",
    "#import dataset (pas locatie aan)\n",
    "#filter header eruit\n",
    "crime_data = (sc.textFile('../data/crimesLA/Crimes_2012-2015.csv').filter(lambda line: 'DATE.OCC' not in line))\n",
    "\n",
    "year12 = crime_data.filter(lambda line: '/2012'  in line)\n",
    "year13 = crime_data.filter(lambda line: '/2013'  in line)\n",
    "year14 = crime_data.filter(lambda line: '/2014'  in line)\n",
    "year15 = crime_data.filter(lambda line: '/2015'  in line)\n",
    "\n",
    "years.append(year12)\n",
    "years.append(year13)\n",
    "years.append(year14)\n",
    "years.append(year15)"
   ]
  },
  {
   "cell_type": "code",
   "execution_count": 20,
   "metadata": {
    "collapsed": false
   },
   "outputs": [
    {
     "name": "stdout",
     "output_type": "stream",
     "text": [
      "238117\n",
      "239731\n",
      "240449\n",
      "228443\n"
     ]
    }
   ],
   "source": [
    "%matplotlib inline\n",
    "import matplotlib.pyplot as plt\n",
    "\n",
    "# x_axis = [ for i in range(12, 16, 1)]\n",
    "\n",
    "x_axis = range(2012,2016)\n",
    "y_axis = []\n",
    "\n",
    "for i in range(0, 4):\n",
    "    y_axis.append(years[i].count())\n",
    "    print years[i].count()"
   ]
  },
  {
   "cell_type": "code",
   "execution_count": 21,
   "metadata": {
    "collapsed": false,
    "scrolled": false
   },
   "outputs": [
    {
     "data": {
      "image/png": "[encoded data removed]",
      "text/plain": [
       "<matplotlib.figure.Figure at 0x8d50128>"
      ]
     },
     "metadata": {},
     "output_type": "display_data"
    }
   ],
   "source": [
    "fig = plt.figure(figsize=(10, 7))\n",
    "fig.suptitle('Crimes per year', fontsize=14)\n",
    "ax = fig.add_subplot(122)\n",
    "ax.set_xlabel('years')\n",
    "ax.set_ylabel('crimes')\n",
    "ax.bar(x_axis, y_axis, fc='darksalmon', align='center')\n",
    "plt.show()"
   ]
  },
  {
   "cell_type": "code",
   "execution_count": 1,
   "metadata": {
    "collapsed": false,
    "scrolled": true
   },
   "outputs": [],
   "source": [
    "# year12CrimesId = []\n",
    "# def filterCrimesId(line):\n",
    "#     raw = line.split(';')\n",
    "#     year12CrimesId.append(int(raw[7]))\n",
    "        \n",
    "                          \n",
    "                          \n",
    "# # year12.filter(line in line).map(filterCrimesId)\n",
    "# year12CrimesId.append(year12.map(word in line)[8])\n",
    "                          \n",
    "\n",
    "# print years12CrimesId.take(5)                          "
   ]
  },
  {
   "cell_type": "code",
   "execution_count": 17,
   "metadata": {
    "collapsed": false
   },
   "outputs": [
    {
     "name": "stdout",
     "output_type": "stream",
     "text": [
      "1637\n",
      "3768\n",
      "20618\n",
      "21075\n",
      "1778\n",
      "2719\n",
      "2635\n",
      "2438\n",
      "1545\n",
      "5321\n",
      "2407\n",
      "3109\n",
      "3749\n",
      "2184\n",
      "3065\n",
      "17068\n",
      "12282\n",
      "2578\n",
      "1661\n",
      "1313\n",
      "1588\n",
      "12063\n",
      "6413\n",
      "2401\n",
      "2498\n",
      "11595\n",
      "1548\n",
      "4185\n",
      "2917\n",
      "1990\n",
      "2330\n",
      "3863\n",
      "3581\n",
      "2911\n",
      "3322\n",
      "959\n",
      "1527\n",
      "2187\n",
      "3007\n",
      "1694\n",
      "1981\n",
      "2637\n",
      "1081\n",
      "9100\n",
      "118219\n",
      "1803\n",
      "1834\n",
      "322184\n"
     ]
    }
   ],
   "source": [
    "personCrimesid = [952,231,230,624,622,623,860,840,870,235,627,813,237,922,812,110,930,943,753,886,434,111,830,940,236,626,\n",
    "                763,250,251,821,845,810,815,850,910,882,884,435,820,933,625,888,756,113,121,932,762]\n",
    "personCrimes = 0\n",
    "\n",
    "\n",
    "for j in range(0, len(personCrimesid)):\n",
    "    amount = year12.filter(lambda line: str(personCrimesid[j]) in line).count()\n",
    "    print str(amount)\n",
    "    personCrimes+= amount\n",
    "    \n",
    "print personCrimes"
   ]
  },
  {
   "cell_type": "code",
   "execution_count": 14,
   "metadata": {
    "collapsed": false
   },
   "outputs": [
    {
     "name": "stdout",
     "output_type": "stream",
     "text": [
      "[210, 310, 330, 331, 341, 343, 345, 347, 349, 350, 351, 352, 354, 420, 430, 431, 440, 442, 444, 446, 470, 471, 473, 474, 480, 487, 510, 647, 648, 653, 654, 660, 661, 662, 664, 668, 670, 740, 745, 805, 924, 931, 942, 949, 950, 951]\n"
     ]
    }
   ],
   "source": [
    "propertyCrimesid = [648,480,487,942,949,662,664,310,330,654,\n",
    "                    653,660,951,950,345,\n",
    "                    444,668,670,349,347,924,331,\n",
    "                    420,354,440,473,474,350,\n",
    "                    341,647,470,471,740,745,510,442,\n",
    "                    343,430,431,446,352,805,661,210,351,931]\n",
    "# propertyCrimesid.sort()\n",
    "# print propertyCrimesid\n",
    "propertyCrimes = 0\n",
    "\n",
    "for j in range(0, len(propertyCrimesid)):\n",
    "    amount = year12.filter(lambda line: str(personCrimesid[j]) in line).count()\n",
    "    print str(amount)\n",
    "    propertyCrimes+= amount\n",
    "    \n",
    "print propertyCrimes"
   ]
  },
  {
   "cell_type": "code",
   "execution_count": null,
   "metadata": {
    "collapsed": true
   },
   "outputs": [],
   "source": [
    "propertyCrimesid = [648,480,487,942,949,662,664,310,330,654,\n",
    "                    653,660,951,950,345,\n",
    "                    444,668,670,349,347,924,331,\n",
    "                    420,354,440,473,474,350,\n",
    "                    341,647,470,471,740,745,510,442,\n",
    "                    343,430,431,446,352,805,661,210,351,931]\n",
    "# propertyCrimesid.sort()\n",
    "# print propertyCrimesid\n",
    "propertyCrimes = 0\n",
    "\n",
    "for j in range(0, len(propertyCrimesid)):\n",
    "    amount = year12.filter(lambda line: str(personCrimesid[j]) in line).count()\n",
    "    print str(amount)\n",
    "    propertyCrimes+= amount\n",
    "    \n",
    "print propertyCrimes"
   ]
  },
  {
   "cell_type": "code",
   "execution_count": null,
   "metadata": {
    "collapsed": true
   },
   "outputs": [],
   "source": [
    "inchoateCrimesid = [220,485,761,666,320,410,944,954,445,421,450,441,475,520,443,920,452,436,451,122,928,930]\n",
    "# inchoateCrimesid.sort()\n",
    "# print propertyCrimesid\n",
    "inchoateCrimes = 0\n",
    "\n",
    "for j in range(0, len(inchoateCrimesid)):\n",
    "    amount = year12.filter(lambda line: str(inchoateCrimesid[j]) in line).count()\n",
    "    print str(amount)\n",
    "    inchoateCrimes+= amount\n",
    "    \n",
    "print inchoateCrimes"
   ]
  },
  {
   "cell_type": "code",
   "execution_count": 18,
   "metadata": {
    "collapsed": false
   },
   "outputs": [
    {
     "name": "stdout",
     "output_type": "stream",
     "text": [
      "[353, 433, 437, 438, 439, 649, 651, 652, 755, 806, 865, 880, 900, 901, 902, 903, 948]\n"
     ]
    }
   ],
   "source": [
    "statutoryCrimesid = [948,755,903,880,649,652,651,433,865,353,439,900,901,902,806,437,438,956,946,814,822]\n",
    "# statutoryCrimesid.sort()\n",
    "# print statutoryCrimesid\n",
    "statutoryCrimes = 0\n",
    "\n",
    "for j in range(0, len(statutoryCrimesid)):\n",
    "    amount = year12.filter(lambda line: str(statutoryCrimesid[j]) in line).count()\n",
    "    print str(amount)\n",
    "    statutoryCrimes+= amount\n",
    "    \n",
    "print statutoryCrimes"
   ]
  },
  {
   "cell_type": "code",
   "execution_count": null,
   "metadata": {
    "collapsed": true
   },
   "outputs": [],
   "source": [
    "traficCrimesid = [997,890]\n",
    "# statutoryCrimesid.sort()\n",
    "# print statutoryCrimesid\n",
    "traficCrimes = 0\n",
    "\n",
    "for j in range(0, len(traficCrimesid)):\n",
    "    amount = year12.filter(lambda line: str(traficCrimesid[j]) in line).count()\n",
    "    print str(amount)\n",
    "    traficCrimes+= amount\n",
    "    \n",
    "print traficCrimes"
   ]
  },
  {
   "cell_type": "code",
   "execution_count": 25,
   "metadata": {
    "collapsed": false
   },
   "outputs": [
    {
     "data": {
      "image/png": "[encoded data removed]",
      "text/plain": [
       "<matplotlib.figure.Figure at 0x84775c0>"
      ]
     },
     "metadata": {},
     "output_type": "display_data"
    }
   ],
   "source": [
    "%matplotlib inline\n",
    "import matplotlib.pyplot as plt\n",
    "\n",
    "x_axis = range(0,24)\n",
    "y_axis = []\n",
    "\n",
    "fig = plt.figure(figsize=(15, 5))\n",
    "plt1 = fig.add_subplot(121)\n",
    "fig.suptitle('Crimes per uur, opgesplitst per categorie', fontsize=14)\n",
    "plt1.set_xlabel('hours')\n",
    "plt1.set_ylabel('crimes')\n",
    "#plt1.plot(hours, traficCrimes)\n",
    "plt2 = fig.add_subplot(122)\n",
    "#plt2.plot(hours, statutoryCrimes)"
   ]
  },
  {
   "cell_type": "code",
   "execution_count": 82,
   "metadata": {
    "collapsed": false
   },
   "outputs": [],
   "source": [
    "# from pyspark.sql import SQLContext\n",
    "# from pyspark.sql.types import *\n",
    "# from datetime import datetime\n",
    "\n",
    "# #Crimes_2012-2015\n",
    "# #https://catalog.data.gov/dataset/crimes-2012-2015\n",
    "\n",
    "# # 935259 Rows\n",
    "# # 2012 - 2015\n",
    "# #Header = Date.Rptd, DR.NO,DATE.OCC,TIME.OCC,AREA,AREA.NAME,RD,Crm.Cd,CrmCd.Desc,Status,Status.Desc,\n",
    "# #            LOCATION,Cross.Street,Location.1\n",
    "# #AREA.NAME = districten\n",
    "\n",
    "# YEARS = [2012, 2013, 2014, 2015]\n",
    "# crime_data = []\n",
    "\n",
    "# #import dataset (pas locatie aan)\n",
    "# #filter header eruit\n",
    "# # crime_data = (sc.textFile('../data/crimesLA/Crimes_2012-2015.csv').filter(lambda l: 'DATE.OCC' not in l))\n",
    "\n",
    "# # convert to a dataframe\n",
    "# def convert_to_df(year):\n",
    "# #     if year == '2015-01':\n",
    "# #         separator = '\\t'\n",
    "# #     else:\n",
    "# #         separator = ';'\n",
    "#     seperator = \";\"\n",
    "#     crime_data = sc.textFile('../Crimes_2012-2015.csv')\n",
    "#     year_rdd = (crime_data\n",
    "#                     .filter(lambda l: 'DATE.OCC' not in l)\n",
    "#                     .filter(lambda l: '/' + year in l)\n",
    "#                     .map(lambda l: add_fields(l, separator))\n",
    "#                )\n",
    "    \n",
    "#     # apply the schema to the RDD.\n",
    "#     year_df = sqlContext.createDataFrame(year_rdd, schema)\n",
    "    \n",
    "#     return year_df\n",
    "\n",
    "# fields = []\n",
    "# fields.append(StructField('DateReported', DateType(), True))\n",
    "# fields.append(StructField('Docnr', IntegerType(), True))\n",
    "# fields.append(StructField('DateOccupied', DateType(), True))\n",
    "# fields.append(StructField('areaId', IntegerType(), True))\n",
    "# fields.append(StructField('areaName', StringType(), True))\n",
    "# fields.append(StructField('rd', IntegerType(), True))\n",
    "# fields.append(StructField('crimeId', IntegerType(), True))\n",
    "# fields.append(StructField('crimeName', StringType(), True))\n",
    "# fields.append(StructField('statusId', IntegerType(), True))\n",
    "# fields.append(StructField('statusName', StringType(), True))\n",
    "# fields.append(StructField('location', StringType(), True))\n",
    "# fields.append(StructField('crossStreet', StringType(), True))\n",
    "# fields.append(StructField('location_type', StringType(), True))\n",
    "# schema = StructType(fields)\n",
    "\n",
    "\n",
    "        \n",
    "\n",
    "# fields = []\n",
    "# fields.append(StructField('DateReported', DateType(), True))\n",
    "# fields.append(StructField('Docnr', IntegerType(), True))\n",
    "# fields.append(StructField('DateOccupied', DateType(), True))\n",
    "# fields.append(StructField('areaId', IntegerType(), True))\n",
    "# fields.append(StructField('areaName', StringType(), True))\n",
    "# fields.append(StructField('rd', IntegerType(), True))\n",
    "# fields.append(StructField('crimeId', IntegerType(), True))\n",
    "# fields.append(StructField('crimeName', StringType(), True))\n",
    "# fields.append(StructField('statusId', IntegerType(), True))\n",
    "# fields.append(StructField('statusName', StringType(), True))\n",
    "# fields.append(StructField('location', StringType(), True))\n",
    "# fields.append(StructField('crossStreet', StringType(), True))\n",
    "# fields.append(StructField('lat', FloatType(), True))\n",
    "# fields.append(StructField('long', FloatType(), True))\n",
    "# schema = StructType(fields)\n",
    "\n",
    "\n",
    "\n",
    "\n",
    "# def add_fields(line, separator):\n",
    "#     fields = []\n",
    "#     vals = line.split(separator)\n",
    "#     # DateReported\n",
    "#     date = datetime.strptime(vals[0], '%m/%d/%Y')\n",
    "#     fields.append(date)\n",
    "#     # Docnr\n",
    "#     fields.append(int(vals[2]))\n",
    "#     # DateOccupied\n",
    "#     date = datetime.strptime(vals[3], '%m/%d/%Y')\n",
    "#     fields.append(date)\n",
    "#     # areaId\n",
    "#     fields.append(int(vals[4]))\n",
    "#     # areaName\n",
    "#     fields.append(vals[3])\n",
    "#     # rd\n",
    "#     fields.append(int(vals[5]))\n",
    "#     # crimeId\n",
    "#     fields.append(int(vals[6]))\n",
    "#     # crimeName\n",
    "#     fields.append(vals[7])\n",
    "#     # statusId\n",
    "#     fields.append(int(vals[8]))\n",
    "#     # statusName\n",
    "#     fields.append(vals[9])\n",
    "#     # location\n",
    "#     fields.append(vals[10])\n",
    "#     # crossStreet\n",
    "#     fields.append(vals[11])\n",
    "#     # lat\n",
    "#     fields.append(vals[12][2:])\n",
    "#     # longit\n",
    "#     fields.append(vals[12][:-2])\n",
    "    \n",
    "    \n",
    "#     return fields\n",
    "# zz"
   ]
  },
  {
   "cell_type": "code",
   "execution_count": null,
   "metadata": {
    "collapsed": true
   },
   "outputs": [],
   "source": []
  }
 ],
 "metadata": {
  "anaconda-cloud": {},
  "kernelspec": {
   "display_name": "Python [Root]",
   "language": "python",
   "name": "Python [Root]"
  },
  "language_info": {
   "codemirror_mode": {
    "name": "ipython",
    "version": 2
   },
   "file_extension": ".py",
   "mimetype": "text/x-python",
   "name": "python",
   "nbconvert_exporter": "python",
   "pygments_lexer": "ipython2",
   "version": "2.7.12"
  }
 },
 "nbformat": 4,
 "nbformat_minor": 0
}
