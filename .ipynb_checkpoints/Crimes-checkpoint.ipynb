{
 "cells": [
  {
   "cell_type": "code",
   "execution_count": 59,
   "metadata": {
    "collapsed": false
   },
   "outputs": [],
   "source": [
    "from pyspark.sql import SQLContext\n",
    "from pyspark.sql.types import *\n",
    "from datetime import datetime\n",
    "from pprint import pprint\n",
    "\n",
    "#Crimes_2012-2015\n",
    "#https://catalog.data.gov/dataset/crimes-2012-2015\n",
    "\n",
    "# 935259 Rows\n",
    "# 2012 - 2015\n",
    "#Header = Date.Rptd, DR.NO,DATE.OCC,TIME.OCC,AREA,AREA.NAME,RD,Crm.Cd,CrmCd.Desc,Status,Status.Desc,\n",
    "#            LOCATION,Cross.Street,Location.1\n",
    "#AREA.NAME = districten\n",
    "\n",
    "years =[]\n",
    "\n",
    "#import dataset (pas locatie aan)\n",
    "#filter header eruit\n",
    "crime_data = (sc.textFile('../data/crimesLA/Crimes_2012-2015.csv').filter(lambda line: 'DATE.OCC' not in line))\n",
    "\n",
    "year12 = crime_data.filter(lambda line: '/2012'  in line)\n",
    "year13 = crime_data.filter(lambda line: '/2013'  in line)\n",
    "year14 = crime_data.filter(lambda line: '/2014'  in line)\n",
    "year15 = crime_data.filter(lambda line: '/2015'  in line)\n",
    "\n",
    "years.append(year12)\n",
    "years.append(year13)\n",
    "years.append(year14)\n",
    "years.append(year15)"
   ]
  },
  {
   "cell_type": "code",
   "execution_count": 60,
   "metadata": {
    "collapsed": false
   },
   "outputs": [
    {
     "name": "stdout",
     "output_type": "stream",
     "text": [
      "238117\n",
      "239731\n",
      "240449\n",
      "228443\n"
     ]
    }
   ],
   "source": [
    "%matplotlib inline\n",
    "import matplotlib.pyplot as plt\n",
    "\n",
    "# x_axis = [ for i in range(12, 16, 1)]\n",
    "\n",
    "x_axis = range(2012,2016)\n",
    "y_axis = []\n",
    "\n",
    "for i in range(0, 4):\n",
    "    y_axis.append(years[i].count())\n",
    "    print years[i].count()"
   ]
  },
  {
   "cell_type": "code",
   "execution_count": 61,
   "metadata": {
    "collapsed": false,
    "scrolled": false
   },
   "outputs": [
    {
     "data": {
      "image/png": "[encoded data removed]",
      "text/plain": [
       "<matplotlib.figure.Figure at 0x107b1908>"
      ]
     },
     "metadata": {},
     "output_type": "display_data"
    }
   ],
   "source": [
    "fig = plt.figure(figsize=(10, 7))\n",
    "fig.suptitle('Crimes per year', fontsize=14)\n",
    "ax = fig.add_subplot(122)\n",
    "ax.set_xlabel('years')\n",
    "ax.set_ylabel('crimes')\n",
    "ax.bar(x_axis, y_axis, fc='darksalmon', align='center')\n",
    "plt.show()"
   ]
  },
  {
   "cell_type": "code",
   "execution_count": 62,
   "metadata": {
    "collapsed": false,
    "scrolled": true
   },
   "outputs": [],
   "source": [
    "# year12CrimesId = []\n",
    "# def filterCrimesId(line):\n",
    "#     raw = line.split(';')\n",
    "#     year12CrimesId.append(int(raw[7]))\n",
    "        \n",
    "                          \n",
    "                          \n",
    "# # year12.filter(line in line).map(filterCrimesId)\n",
    "# year12CrimesId.append(year12.map(word in line)[8])\n",
    "                          \n",
    "\n",
    "# print years12CrimesId.take(5)                          "
   ]
  },
  {
   "cell_type": "code",
   "execution_count": null,
   "metadata": {
    "collapsed": false
   },
   "outputs": [
    {
     "name": "stdout",
     "output_type": "stream",
     "text": [
      "1637\n",
      "3768\n",
      "20618\n",
      "21075\n",
      "1778\n",
      "2719\n",
      "2635\n",
      "2438\n"
     ]
    }
   ],
   "source": [
    "personCrimesid = [\n",
    "\n",
    "if \n",
    "    952,231,230,624,622,623,860,840,870,235,627,813,237,922,812,110,930,943,753,886,434,111,830,940,236,626,763,250,251,821,845,810,815,850,910,882,884,435,820,933,625,888,756,113,121,932,762]\n",
    "personCrimes = 0\n",
    "\n",
    "\n",
    "for j in range(0, len(personCrimesid)):\n",
    "    amount = year12.filter(lambda line: str(personCrimesid[j]) in line).count()\n",
    "    print str(amount)\n",
    "    personCrimes+= amount\n",
    "    \n",
    "print personCrimes"
   ]
  },
  {
   "cell_type": "code",
   "execution_count": 98,
   "metadata": {
    "collapsed": false,
    "scrolled": false
   },
   "outputs": [
    {
     "name": "stdout",
     "output_type": "stream",
     "text": [
      "[(u'121', None), (u'668', None), (u'648', None), (u'231', None), (u'345', None), (u'487', None), (u'343', None), (u'440', None), (u'860', None), (u'122', None), (u'438', None), (u'930', None), (u'740', None), (u'320', None), (u'884', None), (u'251', None), (u'902', None), (u'110', None), (u'950', None), (u'956', None), (u'353', None), (u'745', None), (u'910', None), (u'649', None), (u'230', None), (u'820', None), (u'451', None), (u'954', None), (u'651', None), (u'250', None), (u'330', None), (u'520', None), (u'220', None), (u'806', None), (u'341', None), (u'922', None), (u'442', None), (u'444', None), (u'654', None), (u'622', None), (u'951', None), (u'624', None), (u'944', None), (u'932', None), (u'310', None), (u'805', None), (u'410', None), (u'886', None), (u'435', None), (u'441', None), (u'940', None), (u'920', None), (u'888', None), (u'946', None), (u'354', None), (u'331', None), (u'437', None), (u'625', None), (u'821', None), (u'443', None), (u'813', None), (u'761', None), (u'623', None), (u'850', None), (u'471', None), (u'933', None), (u'653', None), (u'434', None), (u'943', None), (u'670', None), (u'420', None), (u'664', None), (u'450', None), (u'626', None), (u'870', None), (u'433', None), (u'627', None), (u'473', None), (u'421', None), (u'350', None), (u'924', None), (u'812', None), (u'666', None), (u'660', None), (u'475', None), (u'652', None), (u'436', None), (u'763', None), (u'647', None), (u'949', None), (u'901', None), (u'942', None), (u'237', None), (u'510', None), (u'890', None), (u'815', None), (u'352', None), (u'349', None), (u'900', None), (u'210', None), (u'236', None), (u'662', None), (u'880', None), (u'351', None), (u'756', None), (u'480', None), (u'997', None), (u'810', None), (u'948', None), (u'928', None), (u'474', None), (u'661', None), (u'439', None), (u'755', None), (u'903', None), (u'762', None), (u'840', None), (u'235', None), (u'753', None)]\n",
      "510\n"
     ]
    }
   ],
   "source": [
    "personCrimesid = [952,231,230,624,622,623,860,840,870,235,627,813,237,922,812,110,930,943,753,886,434,111,830,940,236,626,\n",
    "                763,250,251,821,845,810,815,850,910,882,884,435,820,933,625,888,756,113,121,932,762]\n",
    "propertyCrimesid = [648,480,487,942,949,662,664,310,330,654,653,660,951,950,345,444,668,670,349,347,924,331,420,354,440,473,474,350,341,647,470,471,740,745,510,442,\n",
    "                    343,430,431,446,352,805,661,210,351,931]\n",
    "inchoateCrimesid = [220,485,761,666,320,410,944,954,445,421,450,441,475,520,443,920,452,436,451,122,928,930]\n",
    "statutoryCrimesid = [948,755,903,880,649,652,651,433,865,353,439,900,901,902,806,437,438,956,946,814,822]\n",
    "traficCrimesid = [997,890]\n",
    "personCrimes = 0\n",
    "test = \"\"\n",
    "\n",
    "def parse_interaction(line):\n",
    "    elems = line.split(\",\")\n",
    "    if elems[7] in personCrimesid:\n",
    "        return (\"personCrimes\", elems)\n",
    "    elif elems[7] in propertyCrimesid:\n",
    "        return (\"propertyCrimes\", elems)\n",
    "    elif elems[7] in inchoateCrimesid:\n",
    "        return (\"inchoateCrimes\", elems)\n",
    "    elif elems[7] in statutoryCrimesid:\n",
    "        return (\"statutoryCrimes\", elems)\n",
    "    elif elems[7] in traficCrimesid:\n",
    "        return (\"traficCrimes\", elems)\n",
    "    else:\n",
    "        return (elems[7], None)\n",
    "\n",
    "key_csv_data = year12.map(parse_interaction)\n",
    "print key_csv_data.distinct().collect()\n",
    "\n",
    "year12split = year12.map(lambda x: x.split(\",\"))\n",
    "print year12split.take(1)[0][7]\n",
    "\n",
    "# year12vars = year12split.filter(lambda x: x for i in personCrimesid if x[7] == i)\n",
    "# print year12vars.count()\n",
    "\n",
    "# year12split = year12.map(lambda x: x.split(\",\"))\n",
    "# year12Vars = []\n",
    "# normal_csv_data = csv_data.filter(lambda x: x[7]==\"886\").count()\n",
    "\n",
    "# for j in range(0, len(personCrimesid)):\n",
    "#     amount = year12split.filter(lambda line: line[7]==str(personCrimesid[j])).count()\n",
    "#     print str(amount)\n",
    "#     personCrimes += amount\n",
    "\n",
    "# for j in range(0, len(personCrimesid)):\n",
    "#     dataLine = year12split.filter(lambda line: if line[7]==str(personCrimesid[j])).collect()\n",
    "#     try:\n",
    "#         print dataLine.take(1)\n",
    "#     except: \n",
    "#         pass\n",
    "#     year12Vars.append(dataLine)\n",
    "\n",
    "# print year12Vars\n"
   ]
  },
  {
   "cell_type": "code",
   "execution_count": 14,
   "metadata": {
    "collapsed": false
   },
   "outputs": [
    {
     "name": "stdout",
     "output_type": "stream",
     "text": [
      "[210, 310, 330, 331, 341, 343, 345, 347, 349, 350, 351, 352, 354, 420, 430, 431, 440, 442, 444, 446, 470, 471, 473, 474, 480, 487, 510, 647, 648, 653, 654, 660, 661, 662, 664, 668, 670, 740, 745, 805, 924, 931, 942, 949, 950, 951]\n"
     ]
    }
   ],
   "source": [
    "propertyCrimesid = [648,480,487,942,949,662,664,310,330,654,\n",
    "                    653,660,951,950,345,\n",
    "                    444,668,670,349,347,924,331,\n",
    "                    420,354,440,473,474,350,\n",
    "                    341,647,470,471,740,745,510,442,\n",
    "                    343,430,431,446,352,805,661,210,351,931]\n",
    "# propertyCrimesid.sort()\n",
    "# print propertyCrimesid\n",
    "propertyCrimes = 0\n",
    "\n",
    "for j in range(0, len(propertyCrimesid)):\n",
    "    amount = year12.filter(lambda line: str(personCrimesid[j]) in line).count()\n",
    "    print str(amount)\n",
    "    propertyCrimes+= amount\n",
    "    \n",
    "print propertyCrimes"
   ]
  },
  {
   "cell_type": "code",
   "execution_count": null,
   "metadata": {
    "collapsed": true
   },
   "outputs": [],
   "source": [
    "propertyCrimesid = [648,480,487,942,949,662,664,310,330,654,\n",
    "                    653,660,951,950,345,\n",
    "                    444,668,670,349,347,924,331,\n",
    "                    420,354,440,473,474,350,\n",
    "                    341,647,470,471,740,745,510,442,\n",
    "                    343,430,431,446,352,805,661,210,351,931]\n",
    "# propertyCrimesid.sort()\n",
    "# print propertyCrimesid\n",
    "propertyCrimes = 0\n",
    "\n",
    "for j in range(0, len(propertyCrimesid)):\n",
    "    amount = year12.filter(lambda line: str(personCrimesid[j]) in line).count()\n",
    "    print str(amount)\n",
    "    propertyCrimes+= amount\n",
    "    \n",
    "print propertyCrimes"
   ]
  },
  {
   "cell_type": "code",
   "execution_count": null,
   "metadata": {
    "collapsed": true
   },
   "outputs": [],
   "source": [
    "inchoateCrimesid = [220,485,761,666,320,410,944,954,445,421,450,441,475,520,443,920,452,436,451,122,928,930]\n",
    "# inchoateCrimesid.sort()\n",
    "# print propertyCrimesid\n",
    "inchoateCrimes = 0\n",
    "\n",
    "for j in range(0, len(inchoateCrimesid)):\n",
    "    amount = year12.filter(lambda line: str(inchoateCrimesid[j]) in line).count()\n",
    "    print str(amount)\n",
    "    inchoateCrimes+= amount\n",
    "    \n",
    "print inchoateCrimes"
   ]
  },
  {
   "cell_type": "code",
   "execution_count": 18,
   "metadata": {
    "collapsed": false
   },
   "outputs": [
    {
     "name": "stdout",
     "output_type": "stream",
     "text": [
      "[353, 433, 437, 438, 439, 649, 651, 652, 755, 806, 865, 880, 900, 901, 902, 903, 948]\n"
     ]
    }
   ],
   "source": [
    "statutoryCrimesid = [948,755,903,880,649,652,651,433,865,353,439,900,901,902,806,437,438,956,946,814,822]\n",
    "# statutoryCrimesid.sort()\n",
    "# print statutoryCrimesid\n",
    "statutoryCrimes = 0\n",
    "\n",
    "for j in range(0, len(statutoryCrimesid)):\n",
    "    amount = year12.filter(lambda line: str(statutoryCrimesid[j]) in line).count()\n",
    "    print str(amount)\n",
    "    statutoryCrimes+= amount\n",
    "    \n",
    "print statutoryCrimes"
   ]
  },
  {
   "cell_type": "code",
   "execution_count": null,
   "metadata": {
    "collapsed": true
   },
   "outputs": [],
   "source": [
    "traficCrimesid = [997,890]\n",
    "# statutoryCrimesid.sort()\n",
    "# print statutoryCrimesid\n",
    "traficCrimes = 0\n",
    "\n",
    "for j in range(0, len(traficCrimesid)):\n",
    "    amount = year12.filter(lambda line: str(traficCrimesid[j]) in line).count()\n",
    "    print str(amount)\n",
    "    traficCrimes+= amount\n",
    "    \n",
    "print traficCrimes"
   ]
  },
  {
   "cell_type": "code",
   "execution_count": 25,
   "metadata": {
    "collapsed": false
   },
   "outputs": [
    {
     "data": {
      "image/png": "[encoded data removed]",
      "text/plain": [
       "<matplotlib.figure.Figure at 0x84775c0>"
      ]
     },
     "metadata": {},
     "output_type": "display_data"
    }
   ],
   "source": [
    "%matplotlib inline\n",
    "import matplotlib.pyplot as plt\n",
    "\n",
    "x_axis = range(0,24)\n",
    "y_axis = []\n",
    "\n",
    "fig = plt.figure(figsize=(15, 5))\n",
    "plt1 = fig.add_subplot(121)\n",
    "fig.suptitle('Crimes per uur, opgesplitst per categorie', fontsize=14)\n",
    "plt1.set_xlabel('hours')\n",
    "plt1.set_ylabel('crimes')\n",
    "#plt1.plot(hours, traficCrimes)\n",
    "plt2 = fig.add_subplot(122)\n",
    "#plt2.plot(hours, statutoryCrimes)"
   ]
  },
  {
   "cell_type": "code",
   "execution_count": 82,
   "metadata": {
    "collapsed": false
   },
   "outputs": [],
   "source": [
    "# from pyspark.sql import SQLContext\n",
    "# from pyspark.sql.types import *\n",
    "# from datetime import datetime\n",
    "\n",
    "# #Crimes_2012-2015\n",
    "# #https://catalog.data.gov/dataset/crimes-2012-2015\n",
    "\n",
    "# # 935259 Rows\n",
    "# # 2012 - 2015\n",
    "# #Header = Date.Rptd, DR.NO,DATE.OCC,TIME.OCC,AREA,AREA.NAME,RD,Crm.Cd,CrmCd.Desc,Status,Status.Desc,\n",
    "# #            LOCATION,Cross.Street,Location.1\n",
    "# #AREA.NAME = districten\n",
    "\n",
    "# YEARS = [2012, 2013, 2014, 2015]\n",
    "# crime_data = []\n",
    "\n",
    "# #import dataset (pas locatie aan)\n",
    "# #filter header eruit\n",
    "# # crime_data = (sc.textFile('../data/crimesLA/Crimes_2012-2015.csv').filter(lambda l: 'DATE.OCC' not in l))\n",
    "\n",
    "# # convert to a dataframe\n",
    "# def convert_to_df(year):\n",
    "# #     if year == '2015-01':\n",
    "# #         separator = '\\t'\n",
    "# #     else:\n",
    "# #         separator = ';'\n",
    "#     seperator = \";\"\n",
    "#     crime_data = sc.textFile('../Crimes_2012-2015.csv')\n",
    "#     year_rdd = (crime_data\n",
    "#                     .filter(lambda l: 'DATE.OCC' not in l)\n",
    "#                     .filter(lambda l: '/' + year in l)\n",
    "#                     .map(lambda l: add_fields(l, separator))\n",
    "#                )\n",
    "    \n",
    "#     # apply the schema to the RDD.\n",
    "#     year_df = sqlContext.createDataFrame(year_rdd, schema)\n",
    "    \n",
    "#     return year_df\n",
    "\n",
    "# fields = []\n",
    "# fields.append(StructField('DateReported', DateType(), True))\n",
    "# fields.append(StructField('Docnr', IntegerType(), True))\n",
    "# fields.append(StructField('DateOccupied', DateType(), True))\n",
    "# fields.append(StructField('areaId', IntegerType(), True))\n",
    "# fields.append(StructField('areaName', StringType(), True))\n",
    "# fields.append(StructField('rd', IntegerType(), True))\n",
    "# fields.append(StructField('crimeId', IntegerType(), True))\n",
    "# fields.append(StructField('crimeName', StringType(), True))\n",
    "# fields.append(StructField('statusId', IntegerType(), True))\n",
    "# fields.append(StructField('statusName', StringType(), True))\n",
    "# fields.append(StructField('location', StringType(), True))\n",
    "# fields.append(StructField('crossStreet', StringType(), True))\n",
    "# fields.append(StructField('location_type', StringType(), True))\n",
    "# schema = StructType(fields)\n",
    "\n",
    "\n",
    "        \n",
    "\n",
    "# fields = []\n",
    "# fields.append(StructField('DateReported', DateType(), True))\n",
    "# fields.append(StructField('Docnr', IntegerType(), True))\n",
    "# fields.append(StructField('DateOccupied', DateType(), True))\n",
    "# fields.append(StructField('areaId', IntegerType(), True))\n",
    "# fields.append(StructField('areaName', StringType(), True))\n",
    "# fields.append(StructField('rd', IntegerType(), True))\n",
    "# fields.append(StructField('crimeId', IntegerType(), True))\n",
    "# fields.append(StructField('crimeName', StringType(), True))\n",
    "# fields.append(StructField('statusId', IntegerType(), True))\n",
    "# fields.append(StructField('statusName', StringType(), True))\n",
    "# fields.append(StructField('location', StringType(), True))\n",
    "# fields.append(StructField('crossStreet', StringType(), True))\n",
    "# fields.append(StructField('lat', FloatType(), True))\n",
    "# fields.append(StructField('long', FloatType(), True))\n",
    "# schema = StructType(fields)\n",
    "\n",
    "\n",
    "\n",
    "\n",
    "# def add_fields(line, separator):\n",
    "#     fields = []\n",
    "#     vals = line.split(separator)\n",
    "#     # DateReported\n",
    "#     date = datetime.strptime(vals[0], '%m/%d/%Y')\n",
    "#     fields.append(date)\n",
    "#     # Docnr\n",
    "#     fields.append(int(vals[2]))\n",
    "#     # DateOccupied\n",
    "#     date = datetime.strptime(vals[3], '%m/%d/%Y')\n",
    "#     fields.append(date)\n",
    "#     # areaId\n",
    "#     fields.append(int(vals[4]))\n",
    "#     # areaName\n",
    "#     fields.append(vals[3])\n",
    "#     # rd\n",
    "#     fields.append(int(vals[5]))\n",
    "#     # crimeId\n",
    "#     fields.append(int(vals[6]))\n",
    "#     # crimeName\n",
    "#     fields.append(vals[7])\n",
    "#     # statusId\n",
    "#     fields.append(int(vals[8]))\n",
    "#     # statusName\n",
    "#     fields.append(vals[9])\n",
    "#     # location\n",
    "#     fields.append(vals[10])\n",
    "#     # crossStreet\n",
    "#     fields.append(vals[11])\n",
    "#     # lat\n",
    "#     fields.append(vals[12][2:])\n",
    "#     # longit\n",
    "#     fields.append(vals[12][:-2])\n",
    "    \n",
    "    \n",
    "#     return fields\n",
    "# zz"
   ]
  },
  {
   "cell_type": "code",
   "execution_count": null,
   "metadata": {
    "collapsed": true
   },
   "outputs": [],
   "source": []
  }
 ],
 "metadata": {
  "anaconda-cloud": {},
  "kernelspec": {
   "display_name": "Python [conda root]",
   "language": "python",
   "name": "conda-root-py"
  }
 },
 "nbformat": 4,
 "nbformat_minor": 0
}
